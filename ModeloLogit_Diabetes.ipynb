{
  "nbformat": 4,
  "nbformat_minor": 0,
  "metadata": {
    "colab": {
      "provenance": [],
      "authorship_tag": "ABX9TyNkRkWh24a/TvwFBeXHusZe",
      "include_colab_link": true
    },
    "kernelspec": {
      "name": "ir",
      "display_name": "R"
    },
    "language_info": {
      "name": "R"
    }
  },
  "cells": [
    {
      "cell_type": "markdown",
      "metadata": {
        "id": "view-in-github",
        "colab_type": "text"
      },
      "source": [
        "<a href=\"https://colab.research.google.com/github/MelchorMS/ModeloLogit/blob/main/ModeloLogit_Diabetes.ipynb\" target=\"_parent\"><img src=\"https://colab.research.google.com/assets/colab-badge.svg\" alt=\"Open In Colab\"/></a>"
      ]
    },
    {
      "cell_type": "code",
      "execution_count": null,
      "metadata": {
        "id": "JdUXm91We2C6",
        "colab": {
          "base_uri": "https://localhost:8080/"
        },
        "outputId": "d163fbc5-32ba-4f67-80f0-fe245a481aa6"
      },
      "outputs": [
        {
          "output_type": "stream",
          "name": "stderr",
          "text": [
            "Installing package into ‘/usr/local/lib/R/site-library’\n",
            "(as ‘lib’ is unspecified)\n",
            "\n",
            "Installing package into ‘/usr/local/lib/R/site-library’\n",
            "(as ‘lib’ is unspecified)\n",
            "\n",
            "Installing package into ‘/usr/local/lib/R/site-library’\n",
            "(as ‘lib’ is unspecified)\n",
            "\n",
            "Installing package into ‘/usr/local/lib/R/site-library’\n",
            "(as ‘lib’ is unspecified)\n",
            "\n"
          ]
        }
      ],
      "source": [
        "install.packages(\"readr\")\n",
        "install.packages(\"dplyr\")\n",
        "install.packages(\"tidyr\")\n",
        "install.packages(\"pscl\")"
      ]
    },
    {
      "cell_type": "markdown",
      "source": [
        "# **1. Modelo Logit: Análisis de Factores de Riesgo para la Diabetes**\n",
        "##1.1 Introducción\n",
        "\n",
        "Este estudio emplea un modelo de regresión logística binomial con un conjunto de datos individuales para analizar la relación entre características clínicas, metabólicas y demográficas con la probabilidad de desarrollar diabetes mellitus en pacientes adultos. Nuestra variable de respuesta está definida por la presencia o ausencia de diabetes (1 = diabético, 0 = no diabético), mientras que las variables predictoras incluyen:\n",
        "\n",
        "*   Edad: Edad del paciente (años)\n",
        "*   Glucosa: Concentración de glucosa en plasma\n",
        "*   Insulina: Insulina sérica de 2 horas (mu U/ml)\n",
        "*   Índice de Masa Corporal (BMC) (kg/m²)\n",
        "*   DiabetesPedigreeFunction (Función que asigna la probabilidad de padecer diabetes a partir de la historia familiar)\n",
        "\n",
        "La importancia de este analisis radica en el gran uso que se le pueden dar a estos datos clinicos como herramientas para la creacion de politicas de prevencion dentro de la salud publica, apartir de identificar los factores de riesgo clave asociados a la diabetes.\n",
        "Por lo que podriamos obtener un analisis cualitativo que dentro de la economia de la salud, nos permita optimizar el uso de recursos limitados para disminuir esta problematica dentro de la poblaciòn en general.\n",
        "\n",
        "**METODOLOGIA:**\n",
        "\n",
        "La metodologia a usar sera un modelo de regresiòn logistica binomial, la cual nos permitira analizar de manera robusta la relacion entre las variables predictoras junto con un resultado binario (en este caso, presencia o ausencia de diabetes).\n",
        "La elecciòn de este modelo se debe ya que al contar con datos individuales, no se puede recurrir al metodo clasico de MCO por lo que se recurrira a procedimientos de cálculo no lineales como el método de máxima verosimilitud."
      ],
      "metadata": {
        "id": "HFAKZTZJRWaM"
      }
    },
    {
      "cell_type": "code",
      "source": [
        "library(\"readr\")\n",
        "df <- read_csv(\"/content/diabetes.csv\")"
      ],
      "metadata": {
        "colab": {
          "base_uri": "https://localhost:8080/"
        },
        "id": "svlyYG-pfg52",
        "outputId": "1634f732-b4cf-4ffc-aac5-b76b738285e6"
      },
      "execution_count": null,
      "outputs": [
        {
          "output_type": "stream",
          "name": "stderr",
          "text": [
            "\u001b[1mRows: \u001b[22m\u001b[34m768\u001b[39m \u001b[1mColumns: \u001b[22m\u001b[34m6\u001b[39m\n",
            "\u001b[36m──\u001b[39m \u001b[1mColumn specification\u001b[22m \u001b[36m────────────────────────────────────────────────────────\u001b[39m\n",
            "\u001b[1mDelimiter:\u001b[22m \",\"\n",
            "\u001b[32mdbl\u001b[39m (6): diabetes, Age, Glucose, Insulin, BMI, DiabetesPedigreeFunction\n",
            "\n",
            "\u001b[36mℹ\u001b[39m Use `spec()` to retrieve the full column specification for this data.\n",
            "\u001b[36mℹ\u001b[39m Specify the column types or set `show_col_types = FALSE` to quiet this message.\n"
          ]
        }
      ]
    },
    {
      "cell_type": "code",
      "source": [
        "# Cargar paquetes necesarios\n",
        "library(dplyr)\n",
        "library(tidyr)\n",
        "\n",
        "# Variables a imputar\n",
        "vars_a_imputar <- c(\"Glucose\", \"Insulin\", \"BMI\")\n",
        "\n",
        "# Reemplazar ceros y NA por la mediana dentro de las variables independientes\n",
        "df <- df %>%\n",
        "  mutate(across(all_of(vars_a_imputar), ~ ifelse(. == 0, NA, .))) %>%  # Convertir ceros en NA\n",
        "  mutate(across(all_of(vars_a_imputar), ~ replace_na(., median(., na.rm = TRUE))))  # Imputar con mediana\n"
      ],
      "metadata": {
        "id": "GH5PPUrd00A-"
      },
      "execution_count": null,
      "outputs": []
    },
    {
      "cell_type": "code",
      "source": [
        "#Verificamos si quedan 0 dentro de nuestras variables reemplazadas\n",
        "vars_a_imputar <- c(\"Glucose\", \"Insulin\", \"BMI\")\n",
        "\n",
        "sapply(df[vars_a_imputar], function(x) sum(x == 0))"
      ],
      "metadata": {
        "colab": {
          "base_uri": "https://localhost:8080/",
          "height": 34
        },
        "id": "PJYa6HCp5c-f",
        "outputId": "5ffa03a4-49f3-4ac7-abc1-d26fb118a5a6"
      },
      "execution_count": null,
      "outputs": [
        {
          "output_type": "display_data",
          "data": {
            "text/html": [
              "<style>\n",
              ".dl-inline {width: auto; margin:0; padding: 0}\n",
              ".dl-inline>dt, .dl-inline>dd {float: none; width: auto; display: inline-block}\n",
              ".dl-inline>dt::after {content: \":\\0020\"; padding-right: .5ex}\n",
              ".dl-inline>dt:not(:first-of-type) {padding-left: .5ex}\n",
              "</style><dl class=dl-inline><dt>Glucose</dt><dd>0</dd><dt>Insulin</dt><dd>0</dd><dt>BMI</dt><dd>0</dd></dl>\n"
            ],
            "text/markdown": "Glucose\n:   0Insulin\n:   0BMI\n:   0\n\n",
            "text/latex": "\\begin{description*}\n\\item[Glucose] 0\n\\item[Insulin] 0\n\\item[BMI] 0\n\\end{description*}\n",
            "text/plain": [
              "Glucose Insulin     BMI \n",
              "      0       0       0 "
            ]
          },
          "metadata": {}
        }
      ]
    },
    {
      "cell_type": "code",
      "source": [
        "head(df)\n",
        "summary(df)"
      ],
      "metadata": {
        "colab": {
          "base_uri": "https://localhost:8080/",
          "height": 564
        },
        "id": "UoLr32to9ZgL",
        "outputId": "271ef7af-adb9-4d1b-a4bc-b1e826999c52"
      },
      "execution_count": null,
      "outputs": [
        {
          "output_type": "display_data",
          "data": {
            "text/html": [
              "<table class=\"dataframe\">\n",
              "<caption>A tibble: 6 × 6</caption>\n",
              "<thead>\n",
              "\t<tr><th scope=col>diabetes</th><th scope=col>Age</th><th scope=col>Glucose</th><th scope=col>Insulin</th><th scope=col>BMI</th><th scope=col>DiabetesPedigreeFunction</th></tr>\n",
              "\t<tr><th scope=col>&lt;dbl&gt;</th><th scope=col>&lt;dbl&gt;</th><th scope=col>&lt;dbl&gt;</th><th scope=col>&lt;dbl&gt;</th><th scope=col>&lt;dbl&gt;</th><th scope=col>&lt;dbl&gt;</th></tr>\n",
              "</thead>\n",
              "<tbody>\n",
              "\t<tr><td>1</td><td>50</td><td>148</td><td>125</td><td>33.6</td><td>0.627</td></tr>\n",
              "\t<tr><td>0</td><td>31</td><td> 85</td><td>125</td><td>26.6</td><td>0.351</td></tr>\n",
              "\t<tr><td>1</td><td>32</td><td>183</td><td>125</td><td>23.3</td><td>0.672</td></tr>\n",
              "\t<tr><td>0</td><td>21</td><td> 89</td><td> 94</td><td>28.1</td><td>0.167</td></tr>\n",
              "\t<tr><td>1</td><td>33</td><td>137</td><td>168</td><td>43.1</td><td>2.288</td></tr>\n",
              "\t<tr><td>0</td><td>30</td><td>116</td><td>125</td><td>25.6</td><td>0.201</td></tr>\n",
              "</tbody>\n",
              "</table>\n"
            ],
            "text/markdown": "\nA tibble: 6 × 6\n\n| diabetes &lt;dbl&gt; | Age &lt;dbl&gt; | Glucose &lt;dbl&gt; | Insulin &lt;dbl&gt; | BMI &lt;dbl&gt; | DiabetesPedigreeFunction &lt;dbl&gt; |\n|---|---|---|---|---|---|\n| 1 | 50 | 148 | 125 | 33.6 | 0.627 |\n| 0 | 31 |  85 | 125 | 26.6 | 0.351 |\n| 1 | 32 | 183 | 125 | 23.3 | 0.672 |\n| 0 | 21 |  89 |  94 | 28.1 | 0.167 |\n| 1 | 33 | 137 | 168 | 43.1 | 2.288 |\n| 0 | 30 | 116 | 125 | 25.6 | 0.201 |\n\n",
            "text/latex": "A tibble: 6 × 6\n\\begin{tabular}{llllll}\n diabetes & Age & Glucose & Insulin & BMI & DiabetesPedigreeFunction\\\\\n <dbl> & <dbl> & <dbl> & <dbl> & <dbl> & <dbl>\\\\\n\\hline\n\t 1 & 50 & 148 & 125 & 33.6 & 0.627\\\\\n\t 0 & 31 &  85 & 125 & 26.6 & 0.351\\\\\n\t 1 & 32 & 183 & 125 & 23.3 & 0.672\\\\\n\t 0 & 21 &  89 &  94 & 28.1 & 0.167\\\\\n\t 1 & 33 & 137 & 168 & 43.1 & 2.288\\\\\n\t 0 & 30 & 116 & 125 & 25.6 & 0.201\\\\\n\\end{tabular}\n",
            "text/plain": [
              "  diabetes Age Glucose Insulin BMI  DiabetesPedigreeFunction\n",
              "1 1        50  148     125     33.6 0.627                   \n",
              "2 0        31   85     125     26.6 0.351                   \n",
              "3 1        32  183     125     23.3 0.672                   \n",
              "4 0        21   89      94     28.1 0.167                   \n",
              "5 1        33  137     168     43.1 2.288                   \n",
              "6 0        30  116     125     25.6 0.201                   "
            ]
          },
          "metadata": {}
        },
        {
          "output_type": "display_data",
          "data": {
            "text/plain": [
              "    diabetes          Age           Glucose          Insulin     \n",
              " Min.   :0.000   Min.   :21.00   Min.   : 44.00   Min.   : 14.0  \n",
              " 1st Qu.:0.000   1st Qu.:24.00   1st Qu.: 99.75   1st Qu.:121.5  \n",
              " Median :0.000   Median :29.00   Median :117.00   Median :125.0  \n",
              " Mean   :0.349   Mean   :33.24   Mean   :121.66   Mean   :140.7  \n",
              " 3rd Qu.:1.000   3rd Qu.:41.00   3rd Qu.:140.25   3rd Qu.:127.2  \n",
              " Max.   :1.000   Max.   :81.00   Max.   :199.00   Max.   :846.0  \n",
              "                 NA's   :1                                       \n",
              "      BMI        DiabetesPedigreeFunction\n",
              " Min.   :18.20   Min.   :0.0780          \n",
              " 1st Qu.:27.50   1st Qu.:0.2437          \n",
              " Median :32.30   Median :0.3725          \n",
              " Mean   :32.46   Mean   :0.4719          \n",
              " 3rd Qu.:36.60   3rd Qu.:0.6262          \n",
              " Max.   :67.10   Max.   :2.4200          \n",
              "                                         "
            ]
          },
          "metadata": {}
        }
      ]
    },
    {
      "cell_type": "markdown",
      "source": [
        "## 1.2 Ecuacion del modelo:\n",
        "En base a nuestras variables independientes y nuestra variable de respuesta, nuestro modelo logit se expresaria de la siguiente manera:\n",
        "\n",
        "$$\n",
        "\\log\\left(\\frac{\\pi}{1-\\pi}\\right) = \\beta_0 + \\beta_1 \\cdot \\text{Glucose} + \\beta_2 \\cdot \\text{Insulin} + \\beta_3 \\cdot \\text{BMI} + \\beta_4 \\cdot \\text{Age} + \\beta_5 \\cdot \\text{dpf}\n",
        "$$\n",
        "\n",
        "Por lo que utilizando la función `glm` para estimar el modelo logit de manera facil, los resultados serian los siguientes:"
      ],
      "metadata": {
        "id": "oFamw7LGcqKk"
      }
    },
    {
      "cell_type": "code",
      "source": [
        "modelo <- glm(diabetes ~ Glucose + Insulin + BMI + Age + DiabetesPedigreeFunction,\n",
        "              data = df,\n",
        "              family = binomial(link = \"logit\"))\n",
        "\n",
        "summary(modelo)"
      ],
      "metadata": {
        "colab": {
          "base_uri": "https://localhost:8080/",
          "height": 434
        },
        "id": "lYatcmHS3lEC",
        "outputId": "f6ddf2e9-649d-45e5-8bcb-dfaae2011a79"
      },
      "execution_count": null,
      "outputs": [
        {
          "output_type": "display_data",
          "data": {
            "text/plain": [
              "\n",
              "Call:\n",
              "glm(formula = diabetes ~ Glucose + Insulin + BMI + Age + DiabetesPedigreeFunction, \n",
              "    family = binomial(link = \"logit\"), data = df)\n",
              "\n",
              "Coefficients:\n",
              "                          Estimate Std. Error z value Pr(>|z|)    \n",
              "(Intercept)              -9.405679   0.728933 -12.903  < 2e-16 ***\n",
              "Glucose                   0.036522   0.003806   9.596  < 2e-16 ***\n",
              "Insulin                  -0.001155   0.001143  -1.010 0.312310    \n",
              "BMI                       0.090216   0.014592   6.183 6.31e-10 ***\n",
              "Age                       0.029073   0.007746   3.753 0.000175 ***\n",
              "DiabetesPedigreeFunction  0.819373   0.292122   2.805 0.005033 ** \n",
              "---\n",
              "Signif. codes:  0 ‘***’ 0.001 ‘**’ 0.01 ‘*’ 0.05 ‘.’ 0.1 ‘ ’ 1\n",
              "\n",
              "(Dispersion parameter for binomial family taken to be 1)\n",
              "\n",
              "    Null deviance: 991.38  on 766  degrees of freedom\n",
              "Residual deviance: 728.68  on 761  degrees of freedom\n",
              "  (1 observation deleted due to missingness)\n",
              "AIC: 740.68\n",
              "\n",
              "Number of Fisher Scoring iterations: 5\n"
            ]
          },
          "metadata": {}
        }
      ]
    },
    {
      "cell_type": "markdown",
      "source": [
        "### 1.3 Resultados del modelo\n",
        "A partir de los resultados anteriores, obtenemos el modelo logístico dado como:\n",
        "\n",
        "$$\n",
        "logit(\\pi)=\\log\\left(\\frac{\\pi}{1-\\pi}\\right) = -9.4056 + 0.0365\\cdot \\text{Glucose} + -0.0011 \\cdot \\text{Insulin} + 0.0902 \\cdot \\text{BMI} + 0.0290 \\cdot \\text{Age} + 0.8193 \\cdot \\text{dpf}\n",
        "$$"
      ],
      "metadata": {
        "id": "HGyoNN2Ye0uC"
      }
    },
    {
      "cell_type": "markdown",
      "source": [
        "## 1.4 Estimación del modelo **logit** paso a paso"
      ],
      "metadata": {
        "id": "7KGahqeai_q9"
      }
    },
    {
      "cell_type": "markdown",
      "source": [
        "### 1.4.1 Organización de los datos\n",
        "\n",
        "El `dataframe` posee **datos individuales** que se acomodan en una matriz de diseño (con intercepto) $X$, una matriz de respuesta $\\underline{y}$ y una matriz en donde se encuentran los datos individuales $\\underline{n}$.\n",
        "\n",
        "Por lo que la ecuacion del modelo logit de forma matricial se representa de la sig manera:\n",
        "\n",
        "$$\n",
        "\\log\\left(\\frac{\\pi}{1-\\pi}\\right) = X\\beta\n",
        "$$\n",
        "\n",
        "donde:\n",
        "- $X$ es la matriz de diseño\n",
        "- $\\beta$ es el vector de coeficientes\n",
        "- $\\pi$ es la probabilidad de que $Y$ $=$ $1$\n"
      ],
      "metadata": {
        "id": "bgn6G6sVxbxg"
      }
    },
    {
      "cell_type": "code",
      "source": [
        "# Construyendo la matriz de diseño y vector de respuesta\n",
        "X <- model.matrix(modelo)       # Con intercepto incluido\n",
        "y <- modelo$y                   # Variable dependiente (0 o 1)\n",
        "n <- rep(1, length(y))          # Cada individuo es un caso\n"
      ],
      "metadata": {
        "id": "uwH8wP07G7ww"
      },
      "execution_count": null,
      "outputs": []
    },
    {
      "cell_type": "markdown",
      "source": [
        "### 1.4.2 Determinación de $\\beta$'s mediante puntaje de Fisher\n",
        "\n",
        "La expresión para determinar los coeficientes del modelo logit mediante el puntaje de fisher es la siguiente:\n",
        "\n",
        "$$\n",
        "\\beta_{i+1}=\\beta_i+(X^TWX)^{-1}X^T(\\underline{y}-\\underline{\\mu})\n",
        "$$\n",
        "donde:  \n",
        "- $\\underline{\\mu} = \\underline{n}\\cdot\\underline{\\pi}$\n",
        "- $W$ = $diag(\\pi_i(1−\\pi_i))$\n",
        "- $X$: matriz de diseño (con intercepto)\n",
        "- $\\underline{y}$: matriz de respuesta\n"
      ],
      "metadata": {
        "id": "EVVHk9UtjWgM"
      }
    },
    {
      "cell_type": "code",
      "source": [
        "\n",
        "# Función de puntaje de Fisher\n",
        "fisher_scoring_individual <- function(X, y, n, beta_init, tol = 1e-8, max_iter = 100) {\n",
        "  beta <- beta_init\n",
        "  iter <- 0\n",
        "  change <- Inf\n",
        "\n",
        "  while (change > tol && iter < max_iter) {\n",
        "    iter <- iter + 1\n",
        "\n",
        "    eta <- X %*% beta\n",
        "    pi <- plogis(eta)                  # Probabilidad estimada\n",
        "\n",
        "    W <- diag(as.vector(pi * (1 - pi)))  # Matriz de pesos (n = 1, así que se omite)\n",
        "    mu <- pi                            # Media esperada\n",
        "\n",
        "    #Matriz de informaciòn de Fisher\n",
        "    info_fisher <- t(X) %*% W %*% X\n",
        "    beta_new <- beta + solve(info_fisher) %*% t(X) %*% (y - mu)\n",
        "\n",
        "    change <- sqrt(sum((beta_new - beta)^2))\n",
        "    beta <- beta_new\n",
        "  }\n",
        "\n",
        "  if (iter == max_iter) warning(\"No convergió tras el máximo de iteraciones\")\n",
        "\n",
        "  cov_matrix <- solve(info_fisher)\n",
        "  std_errors <- sqrt(diag(cov_matrix))\n",
        "  z_values <- beta / std_errors\n",
        "  p_values <- 2 * pnorm(-abs(z_values))\n",
        "\n",
        "  # Resultado\n",
        "  coefficients_df <- data.frame(\n",
        "    Estimate = round(beta, 4),\n",
        "    `Std. Error` = round(std_errors, 4),\n",
        "    `z value` = round(z_values, 3),\n",
        "    `Pr(>|z|)` = format.pval(p_values, digits = 3),\n",
        "    check.names = FALSE\n",
        "  )\n",
        "\n",
        "  list(\n",
        "    coefficients = coefficients_df,\n",
        "    iterations = paste(\"Número de iteraciones:\", iter)\n",
        "  )\n",
        "}\n"
      ],
      "metadata": {
        "id": "t8p51qJlG30P"
      },
      "execution_count": null,
      "outputs": []
    },
    {
      "cell_type": "markdown",
      "source": [
        "Al aplicar la función `fisher_scoring` anterior, obtenemos los $\\beta$'s, sus `z_values` y `p_values` **son los mismos que se obtuvieron al utilizar la funcion `glm`**:"
      ],
      "metadata": {
        "id": "uCG-2ORMn_0Y"
      }
    },
    {
      "cell_type": "code",
      "source": [
        "# Llamamos a la función con valores iniciales\n",
        "resultado <- fisher_scoring_individual(X, y, n, beta_init = rep(0, ncol(X)))\n",
        "\n",
        "print(resultado$coefficients)\n",
        "print(resultado$iterations)"
      ],
      "metadata": {
        "colab": {
          "base_uri": "https://localhost:8080/"
        },
        "id": "N2KHFYA1n30O",
        "outputId": "b8d5b8eb-5eaa-4913-b69e-47932507ba49"
      },
      "execution_count": null,
      "outputs": [
        {
          "output_type": "stream",
          "name": "stdout",
          "text": [
            "                         Estimate Std. Error z value Pr(>|z|)\n",
            "(Intercept)               -9.4057     0.7289 -12.903  < 2e-16\n",
            "Glucose                    0.0365     0.0038   9.596  < 2e-16\n",
            "Insulin                   -0.0012     0.0011  -1.010 0.312310\n",
            "BMI                        0.0902     0.0146   6.183 6.31e-10\n",
            "Age                        0.0291     0.0077   3.753 0.000175\n",
            "DiabetesPedigreeFunction   0.8194     0.2921   2.805 0.005033\n",
            "[1] \"Número de iteraciones: 6\"\n"
          ]
        }
      ]
    },
    {
      "cell_type": "code",
      "source": [
        "#Obtenemos los Odds Ratio con esta función\n",
        "exp(coef(modelo))"
      ],
      "metadata": {
        "colab": {
          "base_uri": "https://localhost:8080/",
          "height": 34
        },
        "id": "EkuVNM2E33Jj",
        "outputId": "9853c443-0171-41a0-9b70-dc31be1538f6"
      },
      "execution_count": null,
      "outputs": [
        {
          "output_type": "display_data",
          "data": {
            "text/html": [
              "<style>\n",
              ".dl-inline {width: auto; margin:0; padding: 0}\n",
              ".dl-inline>dt, .dl-inline>dd {float: none; width: auto; display: inline-block}\n",
              ".dl-inline>dt::after {content: \":\\0020\"; padding-right: .5ex}\n",
              ".dl-inline>dt:not(:first-of-type) {padding-left: .5ex}\n",
              "</style><dl class=dl-inline><dt>(Intercept)</dt><dd>8.22555710783235e-05</dd><dt>Glucose</dt><dd>1.03719682888604</dd><dt>Insulin</dt><dd>0.998845520612129</dd><dt>BMI</dt><dd>1.09441014391403</dd><dt>Age</dt><dd>1.02949997802456</dd><dt>DiabetesPedigreeFunction</dt><dd>2.26907572385666</dd></dl>\n"
            ],
            "text/markdown": "(Intercept)\n:   8.22555710783235e-05Glucose\n:   1.03719682888604Insulin\n:   0.998845520612129BMI\n:   1.09441014391403Age\n:   1.02949997802456DiabetesPedigreeFunction\n:   2.26907572385666\n\n",
            "text/latex": "\\begin{description*}\n\\item[(Intercept)] 8.22555710783235e-05\n\\item[Glucose] 1.03719682888604\n\\item[Insulin] 0.998845520612129\n\\item[BMI] 1.09441014391403\n\\item[Age] 1.02949997802456\n\\item[DiabetesPedigreeFunction] 2.26907572385666\n\\end{description*}\n",
            "text/plain": [
              "             (Intercept)                  Glucose                  Insulin \n",
              "            8.225557e-05             1.037197e+00             9.988455e-01 \n",
              "                     BMI                      Age DiabetesPedigreeFunction \n",
              "            1.094410e+00             1.029500e+00             2.269076e+00 "
            ]
          },
          "metadata": {}
        }
      ]
    },
    {
      "cell_type": "markdown",
      "source": [
        "### 1.4.3 Interpretaciòn de los Odd - Ratio\n",
        "Aplicando la exponencial a los coeficientes:\n",
        "\n",
        "$O$$R$ $=$ $e$$^\\beta$\n",
        "\n",
        "\n",
        "- Glucose = $exp^{0.0365}\\approx 1.037$ = \tPor cada 1 mg/dL de glucosa, el riesgo de diabetes **aumenta 3.7%**.\n",
        "- Insulina = $exp^{-0.0012}\\approx 0.998$ =\n",
        "-  Índice de Masa Corporal (BMI) = $exp^{0.0902}\\approx 1.094$ =  Por cada unidad de IMC incrementa el riesgo en **9.4%**.\n",
        "-  Edad = $exp^{0.0291}\\approx 1.029$ =  Por cada año adicional aumenta el riesgo en **2.9%**.\n",
        "-  DiabetesPedigreeFunction (dpf) = $exp^{0.8194}\\approx 2.269$ =  Quienes tienen mayor predisposición genética tienen **2.27 veces más riesgo**.\n"
      ],
      "metadata": {
        "id": "ercB4LrLqxSg"
      }
    },
    {
      "cell_type": "markdown",
      "source": [],
      "metadata": {
        "id": "VDN490WM-coj"
      }
    },
    {
      "cell_type": "code",
      "source": [
        "#Obtenemos el pseudo R2 (McFadden) para evaluar la bondad de ajuste del modelo:\n",
        "library(pscl)\n",
        "pR2(modelo)"
      ],
      "metadata": {
        "colab": {
          "base_uri": "https://localhost:8080/",
          "height": 173
        },
        "id": "W3-9_abHJG63",
        "outputId": "50475f4f-03c7-47a3-cd95-63ca205da2ac"
      },
      "execution_count": null,
      "outputs": [
        {
          "output_type": "stream",
          "name": "stderr",
          "text": [
            "Classes and Methods for R originally developed in the\n",
            "Political Science Computational Laboratory\n",
            "Department of Political Science\n",
            "Stanford University (2002-2015),\n",
            "by and under the direction of Simon Jackman.\n",
            "hurdle and zeroinfl functions by Achim Zeileis.\n",
            "\n"
          ]
        },
        {
          "output_type": "stream",
          "name": "stdout",
          "text": [
            "fitting null model for pseudo-r2\n"
          ]
        },
        {
          "output_type": "display_data",
          "data": {
            "text/html": [
              "<style>\n",
              ".dl-inline {width: auto; margin:0; padding: 0}\n",
              ".dl-inline>dt, .dl-inline>dd {float: none; width: auto; display: inline-block}\n",
              ".dl-inline>dt::after {content: \":\\0020\"; padding-right: .5ex}\n",
              ".dl-inline>dt:not(:first-of-type) {padding-left: .5ex}\n",
              "</style><dl class=dl-inline><dt>llh</dt><dd>-364.341758797158</dd><dt>llhNull</dt><dd>-495.687935644723</dd><dt>G2</dt><dd>262.692353695131</dd><dt>McFadden</dt><dd>0.264977554228203</dd><dt>r2ML</dt><dd>0.290002116790061</dd><dt>r2CU</dt><dd>0.399767640737084</dd></dl>\n"
            ],
            "text/markdown": "llh\n:   -364.341758797158llhNull\n:   -495.687935644723G2\n:   262.692353695131McFadden\n:   0.264977554228203r2ML\n:   0.290002116790061r2CU\n:   0.399767640737084\n\n",
            "text/latex": "\\begin{description*}\n\\item[llh] -364.341758797158\n\\item[llhNull] -495.687935644723\n\\item[G2] 262.692353695131\n\\item[McFadden] 0.264977554228203\n\\item[r2ML] 0.290002116790061\n\\item[r2CU] 0.399767640737084\n\\end{description*}\n",
            "text/plain": [
              "         llh      llhNull           G2     McFadden         r2ML         r2CU \n",
              "-364.3417588 -495.6879356  262.6923537    0.2649776    0.2900021    0.3997676 "
            ]
          },
          "metadata": {}
        }
      ]
    },
    {
      "cell_type": "markdown",
      "source": [
        "### 1.4.4 Interpretaciòn de la bondad de ajuste:\n",
        "Utilizaremos una medida similar dentro de nuestro modelo ya que el $R$$^2$ no existe dentro del modelo logit, por lue se estimo mediante la funciòn de arriba el **pseudo $R$$^2$**.\n",
        "\n",
        "Donde:\n",
        "- McFadden $R$$^2$ > 0.2 = bueno\n",
        "- McFadden $R$$^2$ > 0.4 = excelente.\n",
        "\n",
        "Segun los resultados obtenidos arriba, nuestro modelo cuenta con un McFadden R² de ~0.265, lo cual indica un buen ajuste.\n",
        "\n",
        "Nota: Esta medida de ajuste se encuentra en Econometria, Gujarti(pag.563).\n",
        "\n"
      ],
      "metadata": {
        "id": "5X3wis2K-LBC"
      }
    }
  ]
}